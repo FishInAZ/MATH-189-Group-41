{
 "cells": [
  {
   "cell_type": "code",
   "execution_count": 1,
   "id": "initial_id",
   "metadata": {
    "is_executing": true
   },
   "outputs": [],
   "source": [
    "import torch\n",
    "import torch.nn as nn\n",
    "import torch.optim as optim\n",
    "from torch.utils.data import DataLoader, TensorDataset\n",
    "from sklearn.model_selection import train_test_split\n",
    "from sklearn.preprocessing import StandardScaler\n",
    "import pandas as pd\n",
    "import numpy as np"
   ]
  },
  {
   "cell_type": "code",
   "execution_count": 2,
   "id": "87b905d1",
   "metadata": {},
   "outputs": [],
   "source": [
    "data = pd.read_csv('data.csv', delimiter=';')"
   ]
  },
  {
   "cell_type": "code",
   "execution_count": 3,
   "id": "80c64b4c",
   "metadata": {},
   "outputs": [
    {
     "name": "stdout",
     "output_type": "stream",
     "text": [
      "Index(['Target'], dtype='object')\n"
     ]
    }
   ],
   "source": [
    "# Check for any object type columns in the dataframe\n",
    "object_columns = data.select_dtypes(include=['object']).columns\n",
    "\n",
    "print(object_columns)"
   ]
  },
  {
   "cell_type": "code",
   "execution_count": 4,
   "id": "a9273189",
   "metadata": {},
   "outputs": [],
   "source": [
    "from sklearn.preprocessing import LabelEncoder\n",
    "\n",
    "# Convert to correct data structure\n",
    "label_encoder = LabelEncoder()\n",
    "\n",
    "data['Target'] = label_encoder.fit_transform(data['Target'])"
   ]
  },
  {
   "cell_type": "code",
   "execution_count": 5,
   "id": "f46e9215e570d2de",
   "metadata": {},
   "outputs": [],
   "source": [
    "X = data.drop('Target', axis=1).values\n",
    "y = data['Target'].values\n",
    "\n",
    "# Scale the features\n",
    "scaler = StandardScaler()\n",
    "X_scaled = scaler.fit_transform(X)\n",
    "\n",
    "# Split the dataset\n",
    "X_train, X_test, y_train, y_test = train_test_split(X_scaled, y, test_size=0.2, random_state=42)\n",
    "\n",
    "# Convert arrays to PyTorch tensors\n",
    "X_train_tensor = torch.tensor(X_train, dtype=torch.float)\n",
    "y_train_tensor = torch.tensor(y_train, dtype=torch.long)\n",
    "X_test_tensor = torch.tensor(X_test, dtype=torch.float)\n",
    "y_test_tensor = torch.tensor(y_test, dtype=torch.long)\n",
    "\n",
    "# Create TensorDatasets and DataLoaders\n",
    "train_dataset = TensorDataset(X_train_tensor, y_train_tensor)\n",
    "test_dataset = TensorDataset(X_test_tensor, y_test_tensor)\n",
    "\n",
    "train_loader = DataLoader(train_dataset, batch_size=64, shuffle=True)\n",
    "test_loader = DataLoader(test_dataset, batch_size=64, shuffle=False)"
   ]
  },
  {
   "cell_type": "code",
   "execution_count": 6,
   "id": "d9ad80dd",
   "metadata": {},
   "outputs": [],
   "source": [
    "class SimpleNN(nn.Module):\n",
    "    def __init__(self, input_features, output_classes):\n",
    "        super(SimpleNN, self).__init__()\n",
    "        self.fc1 = nn.Linear(input_features, 50)\n",
    "        self.relu = nn.ReLU()\n",
    "        self.fc2 = nn.Linear(50, output_classes)\n",
    "        self.softmax = nn.Softmax(dim=1)\n",
    "    \n",
    "    def forward(self, x):\n",
    "        out = self.fc1(x)\n",
    "        out = self.relu(out)\n",
    "        out = self.fc2(out)\n",
    "        out = self.softmax(out)\n",
    "        return out"
   ]
  },
  {
   "cell_type": "code",
   "execution_count": 7,
   "id": "f4c761fc",
   "metadata": {},
   "outputs": [
    {
     "name": "stdout",
     "output_type": "stream",
     "text": [
      "Epoch 1/20, Loss: 0.9190513491630554\n",
      "Epoch 2/20, Loss: 0.9137364625930786\n",
      "Epoch 3/20, Loss: 0.6911916136741638\n",
      "Epoch 4/20, Loss: 0.8763297200202942\n",
      "Epoch 5/20, Loss: 0.8505054116249084\n",
      "Epoch 6/20, Loss: 0.7109635472297668\n",
      "Epoch 7/20, Loss: 0.7374888062477112\n",
      "Epoch 8/20, Loss: 0.7471256852149963\n",
      "Epoch 9/20, Loss: 0.6297647953033447\n",
      "Epoch 10/20, Loss: 0.7460622787475586\n",
      "Epoch 11/20, Loss: 0.6823877692222595\n",
      "Epoch 12/20, Loss: 0.9147528409957886\n",
      "Epoch 13/20, Loss: 0.6974675059318542\n",
      "Epoch 14/20, Loss: 0.6570839881896973\n",
      "Epoch 15/20, Loss: 0.6744030117988586\n",
      "Epoch 16/20, Loss: 0.6557066440582275\n",
      "Epoch 17/20, Loss: 0.6511663198471069\n",
      "Epoch 18/20, Loss: 0.75215744972229\n",
      "Epoch 19/20, Loss: 0.6141546368598938\n",
      "Epoch 20/20, Loss: 0.8004282116889954\n"
     ]
    }
   ],
   "source": [
    "input_features = X_train.shape[1]\n",
    "output_classes = len(np.unique(y))\n",
    "\n",
    "# Initialize the model, loss function, and optimizer\n",
    "model = SimpleNN(input_features, output_classes)\n",
    "criterion = nn.CrossEntropyLoss()\n",
    "optimizer = optim.Adam(model.parameters(), lr=0.001)\n",
    "\n",
    "# Training loop\n",
    "epochs = 20\n",
    "for epoch in range(epochs):\n",
    "    for inputs, labels in train_loader:\n",
    "        optimizer.zero_grad()\n",
    "        outputs = model(inputs)\n",
    "        loss = criterion(outputs, labels)\n",
    "        loss.backward()\n",
    "        optimizer.step()\n",
    "    \n",
    "    print(f'Epoch {epoch+1}/{epochs}, Loss: {loss.item()}')"
   ]
  },
  {
   "cell_type": "code",
   "execution_count": 8,
   "id": "def47c17",
   "metadata": {},
   "outputs": [
    {
     "name": "stdout",
     "output_type": "stream",
     "text": [
      "Accuracy of the model on the test set: 75.71%\n"
     ]
    }
   ],
   "source": [
    "# Evaluate the model on the test dataset\n",
    "model.eval()\n",
    "correct = 0\n",
    "total = 0\n",
    "\n",
    "with torch.no_grad():\n",
    "    for inputs, labels in test_loader:\n",
    "        outputs = model(inputs)\n",
    "        _, predicted = torch.max(outputs.data, 1)\n",
    "        total += labels.size(0)\n",
    "        correct += (predicted == labels).sum().item()\n",
    "\n",
    "accuracy = correct / total\n",
    "print(f'Accuracy of the model on the test set: {accuracy * 100:.2f}%')"
   ]
  }
 ],
 "metadata": {
  "interpreter": {
   "hash": "f21c6345168fb9663086c1328d6ca5c23cda84f0c5d66eabe0b292243a6b5bb7"
  },
  "kernelspec": {
   "display_name": "Python 3 (ipykernel)",
   "language": "python",
   "name": "python3"
  },
  "language_info": {
   "codemirror_mode": {
    "name": "ipython",
    "version": 3
   },
   "file_extension": ".py",
   "mimetype": "text/x-python",
   "name": "python",
   "nbconvert_exporter": "python",
   "pygments_lexer": "ipython3",
   "version": "3.9.5"
  }
 },
 "nbformat": 4,
 "nbformat_minor": 5
}
